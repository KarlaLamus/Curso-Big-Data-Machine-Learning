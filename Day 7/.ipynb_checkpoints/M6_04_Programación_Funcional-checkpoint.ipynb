{
 "cells": [
  {
   "cell_type": "markdown",
   "metadata": {
    "id": "nsEOLErx6WCf"
   },
   "source": [
    "# **Programacion funcional**\n",
    "\n",
    "Vamos a aprender a usar las **funciones lambda, map, filter y reduce**.\n",
    "\n",
    "Veremos los siguientes métodos:\n",
    "\n",
    "    1) Funciones lambda.\n",
    "    2) Metodos de la programacion funcional:      \n",
    "      - map\n",
    "      - filter\n",
    "      - reduce*\n",
    "\n",
    "### **Programacion funcional**\n",
    "\n",
    "Los programas escritos en un **lenguaje funcional** están constituidos unicamente por definiciones de **funciones**, entendiendo estas no como subprogramas clasicos de un lenguaje imperativo, sino como funciones puramente matematicas.\n",
    "\n",
    "<center>\n",
    "<img src=\"https://user-images.githubusercontent.com/16768318/73006022-d523bd00-3e01-11ea-8c1a-8ce4f5529158.png\" width=\"35%\">\n",
    "</center>\n",
    "\n",
    "### **Funciones lambda**\n",
    "\n",
    "Sirve para crear funciones anonimas. Ejemplo:\n"
   ]
  },
  {
   "cell_type": "code",
   "execution_count": 1,
   "metadata": {
    "id": "TOTBARnt6Lhi"
   },
   "outputs": [],
   "source": [
    "def doble(x):\n",
    "  return x**2"
   ]
  },
  {
   "cell_type": "code",
   "execution_count": 2,
   "metadata": {
    "colab": {
     "base_uri": "https://localhost:8080/"
    },
    "id": "gqz5TzS8_weU",
    "outputId": "3b97e314-dd83-47a4-94c6-0570f11cb5fe"
   },
   "outputs": [
    {
     "data": {
      "text/plain": [
       "625"
      ]
     },
     "execution_count": 2,
     "metadata": {},
     "output_type": "execute_result"
    }
   ],
   "source": [
    "doble(25)"
   ]
  },
  {
   "cell_type": "code",
   "execution_count": 3,
   "metadata": {
    "id": "QcVfQr-e_zBO"
   },
   "outputs": [],
   "source": [
    "dobleAnonima = lambda x: x**2"
   ]
  },
  {
   "cell_type": "code",
   "execution_count": 4,
   "metadata": {
    "colab": {
     "base_uri": "https://localhost:8080/"
    },
    "id": "RcsrFRGG_7eN",
    "outputId": "a78655c7-9901-4d7b-c0f6-958e9b0f7384"
   },
   "outputs": [
    {
     "data": {
      "text/plain": [
       "625"
      ]
     },
     "execution_count": 4,
     "metadata": {},
     "output_type": "execute_result"
    }
   ],
   "source": [
    "dobleAnonima(25)"
   ]
  },
  {
   "cell_type": "code",
   "execution_count": 5,
   "metadata": {
    "colab": {
     "base_uri": "https://localhost:8080/"
    },
    "id": "Bvto8RY4sYme",
    "outputId": "5351ca5a-d4ac-4db7-9a1c-e6e082af1be9"
   },
   "outputs": [
    {
     "data": {
      "text/plain": [
       "625"
      ]
     },
     "execution_count": 5,
     "metadata": {},
     "output_type": "execute_result"
    }
   ],
   "source": [
    "(lambda x: x**2)(25)"
   ]
  },
  {
   "cell_type": "markdown",
   "metadata": {
    "id": "LNMouIAOsy9q"
   },
   "source": [
    "### Ejercicio: \n",
    "Escribe una función anónima que de la vuelta a un String, guardala en una variable que se llame reverse_f.\n",
    "\n",
    "\n",
    "> Por ejemplo: Dado el string \"Hola\" debe devolver \"aloH\"\n",
    "\n"
   ]
  },
  {
   "cell_type": "code",
   "execution_count": 6,
   "metadata": {
    "id": "kHuKKQ7e_-rT"
   },
   "outputs": [],
   "source": [
    "#Inserta Aquí tu código\n",
    "reverse_f = lambda x: x[::-1]"
   ]
  },
  {
   "cell_type": "code",
   "execution_count": 7,
   "metadata": {
    "colab": {
     "base_uri": "https://localhost:8080/",
     "height": 36
    },
    "id": "Xpb-b3xQLCOt",
    "outputId": "cae00871-0cfa-4a75-e3b9-dfa65f0b88ad"
   },
   "outputs": [
    {
     "data": {
      "application/vnd.google.colaboratory.intrinsic+json": {
       "type": "string"
      },
      "text/plain": [
       "'aloh'"
      ]
     },
     "execution_count": 7,
     "metadata": {},
     "output_type": "execute_result"
    }
   ],
   "source": [
    "reverse_f('hola')"
   ]
  },
  {
   "cell_type": "markdown",
   "metadata": {
    "id": "mZcdf3C-LGpm"
   },
   "source": [
    "### **Map**\n",
    "\n",
    "Aplica una condicion (definida por una funcion) sobretodos los elementos de una estructura de datos.\n",
    "<img src=\"https://leblancfg.com/img/map_function.png\" width=\"50%\">\n",
    "\n"
   ]
  },
  {
   "cell_type": "markdown",
   "metadata": {
    "id": "1bl4nKrkORx-"
   },
   "source": [
    "#### **Ejemplo 1**\n",
    "\n",
    "Convertir los valores de temperatura media de Celsius a Kelvin"
   ]
  },
  {
   "cell_type": "code",
   "execution_count": 8,
   "metadata": {
    "id": "MJz1s2l_OC00"
   },
   "outputs": [],
   "source": [
    "temp_C = [28, 32, 15, 26, 24, 30]"
   ]
  },
  {
   "cell_type": "code",
   "execution_count": 9,
   "metadata": {
    "colab": {
     "base_uri": "https://localhost:8080/"
    },
    "id": "CcJQUBdORJZF",
    "outputId": "47d00037-1ddb-40ec-f292-873ef7fc2389"
   },
   "outputs": [
    {
     "name": "stdout",
     "output_type": "stream",
     "text": [
      "[301.15, 305.15, 288.15, 299.15, 297.15, 303.15]\n"
     ]
    }
   ],
   "source": [
    "# Programación imperativa\n",
    "temp_K = []\n",
    "for temp in temp_C:\n",
    "  new_temp = temp + 273.15\n",
    "  temp_K.append(new_temp) \n",
    "print(temp_K)   "
   ]
  },
  {
   "cell_type": "code",
   "execution_count": 10,
   "metadata": {
    "colab": {
     "base_uri": "https://localhost:8080/"
    },
    "id": "Sia0b4lmvqQG",
    "outputId": "e3424996-3496-47b8-b07a-a94232fd4db1"
   },
   "outputs": [
    {
     "name": "stdout",
     "output_type": "stream",
     "text": [
      "[301.15, 305.15, 288.15, 299.15, 297.15, 303.15]\n"
     ]
    }
   ],
   "source": [
    "# Programación funcional\n",
    "def celsiusAKelvin(temperatura):\n",
    "  return temperatura + 273.15\n",
    "\n",
    "\n",
    "temp_K = list(map(celsiusAKelvin, temp_C))\n",
    "print(temp_K)"
   ]
  },
  {
   "cell_type": "code",
   "execution_count": 11,
   "metadata": {
    "colab": {
     "base_uri": "https://localhost:8080/"
    },
    "id": "DEvfO1AVvzvJ",
    "outputId": "40f789db-4f63-4e03-c0a9-592803b3b49b"
   },
   "outputs": [
    {
     "name": "stdout",
     "output_type": "stream",
     "text": [
      "[301.15, 305.15, 288.15, 299.15, 297.15, 303.15]\n"
     ]
    }
   ],
   "source": [
    "# Programación funcional avanzada usando funciones anónimas\n",
    "temp_K = list(map(lambda x : x+273.15, temp_C))\n",
    "print(temp_K)"
   ]
  },
  {
   "cell_type": "markdown",
   "metadata": {
    "id": "xRrjjwTrO4vc"
   },
   "source": [
    "#### **Ejercicio 2**\n",
    "Convertir estos nombres a mayúsculas"
   ]
  },
  {
   "cell_type": "code",
   "execution_count": 12,
   "metadata": {
    "id": "cgIL58gOQo2M"
   },
   "outputs": [],
   "source": [
    "mascotas_nombre_min = ['alfred', 'tabitha', 'william', 'arla']"
   ]
  },
  {
   "cell_type": "markdown",
   "metadata": {
    "id": "PNhA9FrTuR26"
   },
   "source": [
    "Primero resuelve tu problema usando un bucle `for`\n",
    "\n",
    "\n",
    "*   INPUT/ENTRADA: Tienes que convertir en mayúscula todos los elementos de la lista `mascotas_nombre_min`\n",
    "*   OUTPUT/SALIDA: Los nombres en mayúsculas deberán estar en la lista `mascotas_nombre_may`\n",
    "* PISTA: Puedes añadir elemenetos a una lista con `append()` \n",
    "\n"
   ]
  },
  {
   "cell_type": "code",
   "execution_count": 14,
   "metadata": {
    "colab": {
     "base_uri": "https://localhost:8080/"
    },
    "id": "mAVbl7f2N_Si",
    "outputId": "7ac861be-6d39-4118-fcc7-915fdb5d70e2"
   },
   "outputs": [
    {
     "name": "stdout",
     "output_type": "stream",
     "text": [
      "['ALFRED', 'TABITHA', 'WILLIAM', 'ARLA']\n"
     ]
    }
   ],
   "source": [
    "# Programación imperativa\n",
    "#Inserta Aquí tu código\n",
    "mascotas_nombre_may = []\n",
    "for mascota in mascotas_nombre_min:\n",
    "  pet_ = mascota.upper()\n",
    "  mascotas_nombre_may.append(pet_)\n",
    "\n",
    "print(mascotas_nombre_may)"
   ]
  },
  {
   "cell_type": "markdown",
   "metadata": {
    "id": "dLiYY70roeA4"
   },
   "source": [
    "Ahora haz lo mismo pero sin un bucle for, ahora usando map()"
   ]
  },
  {
   "cell_type": "code",
   "execution_count": null,
   "metadata": {
    "colab": {
     "base_uri": "https://localhost:8080/",
     "height": 34
    },
    "id": "DYdUckemOWuW",
    "outputId": "fb502884-a609-4a14-ee70-fc7330625c78"
   },
   "outputs": [
    {
     "name": "stdout",
     "output_type": "stream",
     "text": [
      "['ALFRED', 'TABITHA', 'WILLIAM', 'ARLA']\n"
     ]
    }
   ],
   "source": [
    "# Programación funcional\n",
    "#Inserta Aquí tu código\n",
    "mascotas_nombre_may = \n",
    "print(mascotas_nombre_may)"
   ]
  },
  {
   "cell_type": "markdown",
   "metadata": {
    "id": "bn9eybKUUd1l"
   },
   "source": [
    "### **Filter**\n",
    "\n",
    "Mientras que **map()** pasa cada elemento del iterable a traves de una funcion y devuelve el resultado de todos los elementos que han pasado a traves de la funcion, **filter()**, en primer lugar, requiere que **la funcion devuelva valores booleanos (verdadero o falso)** y luego pasa cada elemento del iterable a traves de la funcion, **\"filtrando\" los que son falsos**. \n",
    "\n",
    "<img src=\"https://leblancfg.com/img/filter.png\" width=\"50%\">"
   ]
  },
  {
   "cell_type": "code",
   "execution_count": null,
   "metadata": {
    "id": "dDCGYR6yVnYK"
   },
   "outputs": [],
   "source": [
    "# Filter\n",
    "numeros = [28, 32, 15, 26, 24, 30]"
   ]
  },
  {
   "cell_type": "code",
   "execution_count": null,
   "metadata": {
    "colab": {
     "base_uri": "https://localhost:8080/"
    },
    "id": "leajA5w3wfyK",
    "outputId": "7c86c87f-7728-4cfd-ef4a-f425aa9fa686"
   },
   "outputs": [
    {
     "name": "stdout",
     "output_type": "stream",
     "text": [
      "[32, 30]\n"
     ]
    }
   ],
   "source": [
    "# Programación imperativa\n",
    "num_may_30 = []\n",
    "for num in numeros:\n",
    "  if num >= 30:\n",
    "    num_may_30.append(num) \n",
    "    \n",
    "print(num_may_30)   "
   ]
  },
  {
   "cell_type": "code",
   "execution_count": null,
   "metadata": {
    "colab": {
     "base_uri": "https://localhost:8080/"
    },
    "id": "qyBefSJDwtKc",
    "outputId": "38f42ef5-3c32-445c-f047-6fb0e46cbd02"
   },
   "outputs": [
    {
     "name": "stdout",
     "output_type": "stream",
     "text": [
      "[32, 30]\n"
     ]
    }
   ],
   "source": [
    "# Programación funcional\n",
    "def numMayoresA30(numero):\n",
    "  if numero >= 30:\n",
    "    return True\n",
    "  else:\n",
    "    return False\n",
    "\n",
    "\n",
    "num_may_30 = list(filter(numMayoresA30, numeros))\n",
    "print(num_may_30)"
   ]
  },
  {
   "cell_type": "code",
   "execution_count": null,
   "metadata": {
    "colab": {
     "base_uri": "https://localhost:8080/",
     "height": 34
    },
    "id": "78a6jsnOZ13Y",
    "outputId": "b585692a-4bbc-428c-de5d-dcb72819d451"
   },
   "outputs": [
    {
     "name": "stdout",
     "output_type": "stream",
     "text": [
      "[32, 30]\n"
     ]
    }
   ],
   "source": [
    "# Programación funcional avanzada usando funciones anónimas\n",
    "num_may_30 = list(filter(lambda temp:temp >= 30, numeros))\n",
    "print(num_may_30)"
   ]
  },
  {
   "cell_type": "markdown",
   "metadata": {
    "id": "NcyxonXwoqF8"
   },
   "source": [
    "#### **Ejercicio 3**\n",
    "Escribir una función que reciba una frase (string) y devuelva una lista con las longitudes de cada palabra."
   ]
  },
  {
   "cell_type": "code",
   "execution_count": null,
   "metadata": {
    "id": "cwtf7KhNoqF9"
   },
   "outputs": [],
   "source": [
    "frase = 'Welcome to Python'"
   ]
  },
  {
   "cell_type": "code",
   "execution_count": 2,
   "metadata": {
    "id": "UXy_CRHGpJbo"
   },
   "outputs": [],
   "source": [
    "#Inserta Aquí tu código\n",
    "def length_words(sentence):\n",
    "\n",
    "    words = sentence.split()\n",
    "    lengths = map(len, words)\n",
    "    return list(lengths)\n",
    "     "
   ]
  },
  {
   "cell_type": "markdown",
   "metadata": {
    "id": "jrUHW6BRo9_6"
   },
   "source": [
    "Comprueba tu respuesta, debe dar: [7, 2, 6]"
   ]
  },
  {
   "cell_type": "code",
   "execution_count": 3,
   "metadata": {
    "colab": {
     "base_uri": "https://localhost:8080/"
    },
    "id": "iRXGbTedpAyA",
    "outputId": "ff4260b3-89b9-4b66-9e9c-05387771a37e"
   },
   "outputs": [
    {
     "name": "stdout",
     "output_type": "stream",
     "text": [
      "[7, 2, 6, 3, 7, 8]\n"
     ]
    }
   ],
   "source": [
    "print(length_words('Welcome to Python and Machine Learning'))"
   ]
  },
  {
   "cell_type": "markdown",
   "metadata": {
    "id": "Xmq57J_2p7oD"
   },
   "source": [
    "#### **Ejercicio 4**\n",
    "Escribir una función que reciba una lista de números pares e impares y devuelve como resultado una lista solo con los números pares usando filter. Usa también la función dada check_even()."
   ]
  },
  {
   "cell_type": "code",
   "execution_count": 17,
   "metadata": {
    "collapsed": true,
    "id": "MWRq86JTJmSS"
   },
   "outputs": [],
   "source": [
    "def check_even(num):\n",
    "    return num % 2 == 0 "
   ]
  },
  {
   "cell_type": "code",
   "execution_count": 18,
   "metadata": {
    "collapsed": true,
    "id": "ZhtI3T3VJmSS"
   },
   "outputs": [],
   "source": [
    "nums = [0,1,2,3,4,5,6,7,8,9,10]"
   ]
  },
  {
   "cell_type": "code",
   "execution_count": 20,
   "metadata": {
    "colab": {
     "base_uri": "https://localhost:8080/"
    },
    "id": "UmOddg-eJmST",
    "outputId": "590fad18-aebf-42d3-ea8b-bd221ec64fc7"
   },
   "outputs": [
    {
     "data": {
      "text/plain": [
       "[0, 2, 4, 6, 8, 10]"
      ]
     },
     "execution_count": 20,
     "metadata": {},
     "output_type": "execute_result"
    }
   ],
   "source": [
    "#Inserta Aquí tu código\n",
    "list(filter(check_even,nums))"
   ]
  }
 ],
 "metadata": {
  "colab": {
   "provenance": []
  },
  "kernelspec": {
   "display_name": "Python 3 (ipykernel)",
   "language": "python",
   "name": "python3"
  },
  "language_info": {
   "codemirror_mode": {
    "name": "ipython",
    "version": 3
   },
   "file_extension": ".py",
   "mimetype": "text/x-python",
   "name": "python",
   "nbconvert_exporter": "python",
   "pygments_lexer": "ipython3",
   "version": "3.10.9"
  }
 },
 "nbformat": 4,
 "nbformat_minor": 1
}
